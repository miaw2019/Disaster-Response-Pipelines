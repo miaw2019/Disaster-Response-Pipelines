{
 "cells": [
  {
   "cell_type": "markdown",
   "metadata": {},
   "source": [
    "# ML Pipeline Preparation\n",
    "Follow the instructions below to help you create your ML pipeline.\n",
    "### 1. Import libraries and load data from database.\n",
    "- Import Python libraries\n",
    "- Load dataset from database with [`read_sql_table`](https://pandas.pydata.org/pandas-docs/stable/generated/pandas.read_sql_table.html)\n",
    "- Define feature and target variables X and Y"
   ]
  },
  {
   "cell_type": "code",
   "execution_count": 1,
   "metadata": {},
   "outputs": [
    {
     "name": "stderr",
     "output_type": "stream",
     "text": "[nltk_data] Downloading package punkt to\n[nltk_data]     C:\\Users\\Johnny\\AppData\\Roaming\\nltk_data...\n[nltk_data]   Package punkt is already up-to-date!\n[nltk_data] Downloading package stopwords to\n[nltk_data]     C:\\Users\\Johnny\\AppData\\Roaming\\nltk_data...\n[nltk_data]   Package stopwords is already up-to-date!\n"
    }
   ],
   "source": [
    "# import libraries\n",
    "import re\n",
    "import numpy as np\n",
    "import pandas as pd\n",
    "from nltk.tokenize import word_tokenize\n",
    "from nltk.stem import WordNetLemmatizer\n",
    "from nltk.corpus import stopwords\n",
    "from nltk.tokenize import word_tokenize\n",
    "from nltk.stem.porter import PorterStemmer\n",
    "import nltk\n",
    "nltk.download('punkt')\n",
    "nltk.download('stopwords')\n",
    "\n",
    "from sqlalchemy import create_engine\n",
    "from sklearn.metrics import confusion_matrix\n",
    "from sklearn.ensemble import RandomForestClassifier\n",
    "from sklearn.model_selection import train_test_split\n",
    "from sklearn.pipeline import Pipeline, FeatureUnion\n",
    "from sklearn.base import BaseEstimator, TransformerMixin\n",
    "from sklearn.model_selection import GridSearchCV\n",
    "from sklearn.feature_extraction.text import CountVectorizer, TfidfTransformer\n",
    "from sklearn.multioutput import MultiOutputClassifier\n",
    "from sklearn.metrics import classification_report, accuracy_score, precision_score, recall_score, f1_score,make_scorer\n",
    "from sklearn.neighbors import KNeighborsClassifier\n",
    "import pickle\n",
    "import warnings\n",
    "warnings.simplefilter('ignore')"
   ]
  },
  {
   "cell_type": "code",
   "execution_count": 3,
   "metadata": {},
   "outputs": [],
   "source": [
    "# load data from database\n",
    "engine = create_engine('sqlite:///notebooks/processeddata.db')\n",
    "\n",
    "df = pd.read_sql(\"SELECT * FROM df\", engine)\n",
    "X = df['message']\n",
    "Y = df.drop(['id', 'message', 'original', 'genre'], axis = 1)"
   ]
  },
  {
   "cell_type": "markdown",
   "metadata": {},
   "source": [
    "### 2. Write a tokenization function to process your text data"
   ]
  },
  {
   "cell_type": "code",
   "execution_count": 5,
   "metadata": {},
   "outputs": [],
   "source": [
    "def tokenize(text):\n",
    "    # Normalize text\n",
    "    text = re.sub(r\"[^a-zA-Z]\", \" \", text.lower())\n",
    "    tokens = word_tokenize(text)\n",
    "    stemmed = [PorterStemmer().stem(word) for word in tokens if word not in stopwords.words(\"english\")]\n",
    "\n",
    "    return stemmed"
   ]
  },
  {
   "cell_type": "markdown",
   "metadata": {},
   "source": [
    "### 3. Build a machine learning pipeline\n",
    "This machine pipeline should take in the `message` column as input and output classification results on the other 36 categories in the dataset. You may find the [MultiOutputClassifier](http://scikit-learn.org/stable/modules/generated/sklearn.multioutput.MultiOutputClassifier.html) helpful for predicting multiple target variables."
   ]
  },
  {
   "cell_type": "code",
   "execution_count": 6,
   "metadata": {},
   "outputs": [],
   "source": [
    "\n",
    "pipeline = Pipeline([\n",
    "    ('vect', CountVectorizer(tokenizer = tokenize)),\n",
    "    ('tfidf', TfidfTransformer()),\n",
    "    ('clf', MultiOutputClassifier(RandomForestClassifier(verbose=False)))\n",
    "])"
   ]
  },
  {
   "cell_type": "markdown",
   "metadata": {},
   "source": [
    "### 4. Train pipeline\n",
    "- Split data into train and test sets\n",
    "- Train pipeline"
   ]
  },
  {
   "cell_type": "code",
   "execution_count": 7,
   "metadata": {},
   "outputs": [
    {
     "data": {
      "text/plain": "Pipeline(memory=None,\n         steps=[('vect',\n                 CountVectorizer(analyzer='word', binary=False,\n                                 decode_error='strict',\n                                 dtype=<class 'numpy.int64'>, encoding='utf-8',\n                                 input='content', lowercase=True, max_df=1.0,\n                                 max_features=None, min_df=1,\n                                 ngram_range=(1, 1), preprocessor=None,\n                                 stop_words=None, strip_accents=None,\n                                 token_pattern='(?u)\\\\b\\\\w\\\\w+\\\\b',\n                                 tokenizer=<function tokenize at...\n                 MultiOutputClassifier(estimator=RandomForestClassifier(bootstrap=True,\n                                                                        class_weight=None,\n                                                                        criterion='gini',\n                                                                        max_depth=None,\n                                                                        max_features='auto',\n                                                                        max_leaf_nodes=None,\n                                                                        min_impurity_decrease=0.0,\n                                                                        min_impurity_split=None,\n                                                                        min_samples_leaf=1,\n                                                                        min_samples_split=2,\n                                                                        min_weight_fraction_leaf=0.0,\n                                                                        n_estimators='warn',\n                                                                        n_jobs=None,\n                                                                        oob_score=False,\n                                                                        random_state=None,\n                                                                        verbose=False,\n                                                                        warm_start=False),\n                                       n_jobs=None))],\n         verbose=False)"
     },
     "execution_count": 7,
     "metadata": {},
     "output_type": "execute_result"
    }
   ],
   "source": [
    "X_train, X_test, Y_train, Y_test = train_test_split(X, Y, random_state = 1)\n",
    "\n",
    "np.random.seed(233)\n",
    "pipeline.fit(X_train, Y_train)"
   ]
  },
  {
   "cell_type": "markdown",
   "metadata": {},
   "source": [
    "### 5. Test your model\n",
    "Report the f1 score, precision and recall for each output category of the dataset. You can do this by iterating through the columns and calling sklearn's `classification_report` on each."
   ]
  },
  {
   "cell_type": "code",
   "execution_count": 8,
   "metadata": {},
   "outputs": [],
   "source": [
    "def get_score(y_true, y_pred, target_names):\n",
    "    df = pd.DataFrame()\n",
    "    for i,target in enumerate(target_names):\n",
    "        accuracy = accuracy_score(y_true[:, i], y_pred[:, i])\n",
    "        f1 = f1_score(y_true[:, i], y_pred[:, i])\n",
    "        precision = precision_score(y_true[:, i], y_pred[:, i])\n",
    "        recall = recall_score(y_true[:, i], y_pred[:, i])\n",
    "        df = df.append({'index':target,'Accuracy':accuracy,'F1 Score':f1,'Precision':precision,'Recall':recall},ignore_index = True)\n",
    "    return df"
   ]
  },
  {
   "cell_type": "code",
   "execution_count": 9,
   "metadata": {},
   "outputs": [],
   "source": [
    "target_names = Y.columns"
   ]
  },
  {
   "cell_type": "code",
   "execution_count": 10,
   "metadata": {},
   "outputs": [],
   "source": [
    "y_train_pred = pipeline.predict(X_train)\n",
    "y_train_true = np.array(Y_train)"
   ]
  },
  {
   "cell_type": "code",
   "execution_count": 11,
   "metadata": {},
   "outputs": [
    {
     "data": {
      "text/html": "<div>\n<style scoped>\n    .dataframe tbody tr th:only-of-type {\n        vertical-align: middle;\n    }\n\n    .dataframe tbody tr th {\n        vertical-align: top;\n    }\n\n    .dataframe thead th {\n        text-align: right;\n    }\n</style>\n<table border=\"1\" class=\"dataframe\">\n  <thead>\n    <tr style=\"text-align: right;\">\n      <th></th>\n      <th>Accuracy</th>\n      <th>F1 Score</th>\n      <th>Precision</th>\n      <th>Recall</th>\n      <th>index</th>\n    </tr>\n  </thead>\n  <tbody>\n    <tr>\n      <td>0</td>\n      <td>0.990625</td>\n      <td>0.993881</td>\n      <td>0.992918</td>\n      <td>0.994846</td>\n      <td>related</td>\n    </tr>\n    <tr>\n      <td>1</td>\n      <td>0.987245</td>\n      <td>0.961592</td>\n      <td>0.996165</td>\n      <td>0.929338</td>\n      <td>request</td>\n    </tr>\n    <tr>\n      <td>2</td>\n      <td>0.998924</td>\n      <td>0.875740</td>\n      <td>1.000000</td>\n      <td>0.778947</td>\n      <td>offer</td>\n    </tr>\n    <tr>\n      <td>3</td>\n      <td>0.985554</td>\n      <td>0.982567</td>\n      <td>0.993996</td>\n      <td>0.971397</td>\n      <td>aid_related</td>\n    </tr>\n    <tr>\n      <td>4</td>\n      <td>0.987654</td>\n      <td>0.916580</td>\n      <td>1.000000</td>\n      <td>0.846006</td>\n      <td>medical_help</td>\n    </tr>\n    <tr>\n      <td>5</td>\n      <td>0.992470</td>\n      <td>0.920152</td>\n      <td>0.997644</td>\n      <td>0.853831</td>\n      <td>medical_products</td>\n    </tr>\n    <tr>\n      <td>6</td>\n      <td>0.993494</td>\n      <td>0.875123</td>\n      <td>0.997758</td>\n      <td>0.779335</td>\n      <td>search_and_rescue</td>\n    </tr>\n    <tr>\n      <td>7</td>\n      <td>0.995594</td>\n      <td>0.858553</td>\n      <td>1.000000</td>\n      <td>0.752161</td>\n      <td>security</td>\n    </tr>\n    <tr>\n      <td>8</td>\n      <td>0.996158</td>\n      <td>0.937448</td>\n      <td>1.000000</td>\n      <td>0.882261</td>\n      <td>military</td>\n    </tr>\n    <tr>\n      <td>9</td>\n      <td>0.996312</td>\n      <td>0.970492</td>\n      <td>1.000000</td>\n      <td>0.942675</td>\n      <td>water</td>\n    </tr>\n    <tr>\n      <td>10</td>\n      <td>0.993802</td>\n      <td>0.971775</td>\n      <td>0.997605</td>\n      <td>0.947249</td>\n      <td>food</td>\n    </tr>\n    <tr>\n      <td>11</td>\n      <td>0.993289</td>\n      <td>0.960837</td>\n      <td>0.998137</td>\n      <td>0.926225</td>\n      <td>shelter</td>\n    </tr>\n    <tr>\n      <td>12</td>\n      <td>0.997797</td>\n      <td>0.925217</td>\n      <td>0.996255</td>\n      <td>0.863636</td>\n      <td>clothing</td>\n    </tr>\n    <tr>\n      <td>13</td>\n      <td>0.995338</td>\n      <td>0.891018</td>\n      <td>1.000000</td>\n      <td>0.803456</td>\n      <td>money</td>\n    </tr>\n    <tr>\n      <td>14</td>\n      <td>0.997234</td>\n      <td>0.857143</td>\n      <td>1.000000</td>\n      <td>0.750000</td>\n      <td>missing_people</td>\n    </tr>\n    <tr>\n      <td>15</td>\n      <td>0.994672</td>\n      <td>0.910806</td>\n      <td>0.998120</td>\n      <td>0.837539</td>\n      <td>refugees</td>\n    </tr>\n    <tr>\n      <td>16</td>\n      <td>0.995185</td>\n      <td>0.944965</td>\n      <td>1.000000</td>\n      <td>0.895671</td>\n      <td>death</td>\n    </tr>\n    <tr>\n      <td>17</td>\n      <td>0.978792</td>\n      <td>0.913098</td>\n      <td>0.996335</td>\n      <td>0.842697</td>\n      <td>other_aid</td>\n    </tr>\n    <tr>\n      <td>18</td>\n      <td>0.985042</td>\n      <td>0.870222</td>\n      <td>1.000000</td>\n      <td>0.770260</td>\n      <td>infrastructure_related</td>\n    </tr>\n    <tr>\n      <td>19</td>\n      <td>0.991394</td>\n      <td>0.897436</td>\n      <td>0.998641</td>\n      <td>0.814856</td>\n      <td>transport</td>\n    </tr>\n    <tr>\n      <td>20</td>\n      <td>0.993597</td>\n      <td>0.933119</td>\n      <td>0.997712</td>\n      <td>0.876382</td>\n      <td>buildings</td>\n    </tr>\n    <tr>\n      <td>21</td>\n      <td>0.995594</td>\n      <td>0.880886</td>\n      <td>1.000000</td>\n      <td>0.787129</td>\n      <td>electricity</td>\n    </tr>\n    <tr>\n      <td>22</td>\n      <td>0.998361</td>\n      <td>0.850467</td>\n      <td>0.989130</td>\n      <td>0.745902</td>\n      <td>tools</td>\n    </tr>\n    <tr>\n      <td>23</td>\n      <td>0.997131</td>\n      <td>0.856410</td>\n      <td>1.000000</td>\n      <td>0.748879</td>\n      <td>hospitals</td>\n    </tr>\n    <tr>\n      <td>24</td>\n      <td>0.998566</td>\n      <td>0.808219</td>\n      <td>1.000000</td>\n      <td>0.678161</td>\n      <td>shops</td>\n    </tr>\n    <tr>\n      <td>25</td>\n      <td>0.996670</td>\n      <td>0.837905</td>\n      <td>1.000000</td>\n      <td>0.721030</td>\n      <td>aid_centers</td>\n    </tr>\n    <tr>\n      <td>26</td>\n      <td>0.991240</td>\n      <td>0.888744</td>\n      <td>0.997080</td>\n      <td>0.801643</td>\n      <td>other_infrastructure</td>\n    </tr>\n    <tr>\n      <td>27</td>\n      <td>0.989294</td>\n      <td>0.980535</td>\n      <td>0.995085</td>\n      <td>0.966404</td>\n      <td>weather_related</td>\n    </tr>\n    <tr>\n      <td>28</td>\n      <td>0.992675</td>\n      <td>0.953975</td>\n      <td>0.998652</td>\n      <td>0.913124</td>\n      <td>floods</td>\n    </tr>\n    <tr>\n      <td>29</td>\n      <td>0.994109</td>\n      <td>0.967376</td>\n      <td>0.997659</td>\n      <td>0.938877</td>\n      <td>storm</td>\n    </tr>\n    <tr>\n      <td>30</td>\n      <td>0.998002</td>\n      <td>0.904177</td>\n      <td>1.000000</td>\n      <td>0.825112</td>\n      <td>fire</td>\n    </tr>\n    <tr>\n      <td>31</td>\n      <td>0.995851</td>\n      <td>0.977086</td>\n      <td>0.995963</td>\n      <td>0.958912</td>\n      <td>earthquake</td>\n    </tr>\n    <tr>\n      <td>32</td>\n      <td>0.997080</td>\n      <td>0.921811</td>\n      <td>0.997033</td>\n      <td>0.857143</td>\n      <td>cold</td>\n    </tr>\n    <tr>\n      <td>33</td>\n      <td>0.989908</td>\n      <td>0.894709</td>\n      <td>0.996429</td>\n      <td>0.811833</td>\n      <td>other_weather</td>\n    </tr>\n    <tr>\n      <td>34</td>\n      <td>0.980380</td>\n      <td>0.946931</td>\n      <td>0.995339</td>\n      <td>0.903013</td>\n      <td>direct_report</td>\n    </tr>\n  </tbody>\n</table>\n</div>",
      "text/plain": "    Accuracy  F1 Score  Precision    Recall                   index\n0   0.990625  0.993881   0.992918  0.994846                 related\n1   0.987245  0.961592   0.996165  0.929338                 request\n2   0.998924  0.875740   1.000000  0.778947                   offer\n3   0.985554  0.982567   0.993996  0.971397             aid_related\n4   0.987654  0.916580   1.000000  0.846006            medical_help\n5   0.992470  0.920152   0.997644  0.853831        medical_products\n6   0.993494  0.875123   0.997758  0.779335       search_and_rescue\n7   0.995594  0.858553   1.000000  0.752161                security\n8   0.996158  0.937448   1.000000  0.882261                military\n9   0.996312  0.970492   1.000000  0.942675                   water\n10  0.993802  0.971775   0.997605  0.947249                    food\n11  0.993289  0.960837   0.998137  0.926225                 shelter\n12  0.997797  0.925217   0.996255  0.863636                clothing\n13  0.995338  0.891018   1.000000  0.803456                   money\n14  0.997234  0.857143   1.000000  0.750000          missing_people\n15  0.994672  0.910806   0.998120  0.837539                refugees\n16  0.995185  0.944965   1.000000  0.895671                   death\n17  0.978792  0.913098   0.996335  0.842697               other_aid\n18  0.985042  0.870222   1.000000  0.770260  infrastructure_related\n19  0.991394  0.897436   0.998641  0.814856               transport\n20  0.993597  0.933119   0.997712  0.876382               buildings\n21  0.995594  0.880886   1.000000  0.787129             electricity\n22  0.998361  0.850467   0.989130  0.745902                   tools\n23  0.997131  0.856410   1.000000  0.748879               hospitals\n24  0.998566  0.808219   1.000000  0.678161                   shops\n25  0.996670  0.837905   1.000000  0.721030             aid_centers\n26  0.991240  0.888744   0.997080  0.801643    other_infrastructure\n27  0.989294  0.980535   0.995085  0.966404         weather_related\n28  0.992675  0.953975   0.998652  0.913124                  floods\n29  0.994109  0.967376   0.997659  0.938877                   storm\n30  0.998002  0.904177   1.000000  0.825112                    fire\n31  0.995851  0.977086   0.995963  0.958912              earthquake\n32  0.997080  0.921811   0.997033  0.857143                    cold\n33  0.989908  0.894709   0.996429  0.811833           other_weather\n34  0.980380  0.946931   0.995339  0.903013           direct_report"
     },
     "metadata": {},
     "output_type": "display_data"
    }
   ],
   "source": [
    "result_train_df = get_score(y_train_true, y_train_pred, target_names)\n",
    "display(result_train_df)"
   ]
  },
  {
   "cell_type": "code",
   "execution_count": 12,
   "metadata": {},
   "outputs": [],
   "source": [
    "y_true = np.array(Y_test)\n",
    "y_pred = pipeline.predict(X_test)"
   ]
  },
  {
   "cell_type": "code",
   "execution_count": 13,
   "metadata": {},
   "outputs": [
    {
     "data": {
      "text/html": "<div>\n<style scoped>\n    .dataframe tbody tr th:only-of-type {\n        vertical-align: middle;\n    }\n\n    .dataframe tbody tr th {\n        vertical-align: top;\n    }\n\n    .dataframe thead th {\n        text-align: right;\n    }\n</style>\n<table border=\"1\" class=\"dataframe\">\n  <thead>\n    <tr style=\"text-align: right;\">\n      <th></th>\n      <th>Accuracy</th>\n      <th>F1 Score</th>\n      <th>Precision</th>\n      <th>Recall</th>\n      <th>index</th>\n    </tr>\n  </thead>\n  <tbody>\n    <tr>\n      <td>0</td>\n      <td>0.803750</td>\n      <td>0.876152</td>\n      <td>0.845247</td>\n      <td>0.909402</td>\n      <td>related</td>\n    </tr>\n    <tr>\n      <td>1</td>\n      <td>0.885969</td>\n      <td>0.573563</td>\n      <td>0.804839</td>\n      <td>0.445536</td>\n      <td>request</td>\n    </tr>\n    <tr>\n      <td>2</td>\n      <td>0.996465</td>\n      <td>0.000000</td>\n      <td>0.000000</td>\n      <td>0.000000</td>\n      <td>offer</td>\n    </tr>\n    <tr>\n      <td>3</td>\n      <td>0.746427</td>\n      <td>0.660773</td>\n      <td>0.735469</td>\n      <td>0.599851</td>\n      <td>aid_related</td>\n    </tr>\n    <tr>\n      <td>4</td>\n      <td>0.923313</td>\n      <td>0.191248</td>\n      <td>0.602041</td>\n      <td>0.113680</td>\n      <td>medical_help</td>\n    </tr>\n    <tr>\n      <td>5</td>\n      <td>0.953435</td>\n      <td>0.192000</td>\n      <td>0.666667</td>\n      <td>0.112150</td>\n      <td>medical_products</td>\n    </tr>\n    <tr>\n      <td>6</td>\n      <td>0.977255</td>\n      <td>0.075000</td>\n      <td>0.857143</td>\n      <td>0.039216</td>\n      <td>search_and_rescue</td>\n    </tr>\n    <tr>\n      <td>7</td>\n      <td>0.980790</td>\n      <td>0.015748</td>\n      <td>0.333333</td>\n      <td>0.008065</td>\n      <td>security</td>\n    </tr>\n    <tr>\n      <td>8</td>\n      <td>0.967727</td>\n      <td>0.160000</td>\n      <td>0.740741</td>\n      <td>0.089686</td>\n      <td>military</td>\n    </tr>\n    <tr>\n      <td>9</td>\n      <td>0.958506</td>\n      <td>0.551495</td>\n      <td>0.892473</td>\n      <td>0.399038</td>\n      <td>water</td>\n    </tr>\n    <tr>\n      <td>10</td>\n      <td>0.938681</td>\n      <td>0.677966</td>\n      <td>0.815534</td>\n      <td>0.580110</td>\n      <td>food</td>\n    </tr>\n    <tr>\n      <td>11</td>\n      <td>0.931458</td>\n      <td>0.457421</td>\n      <td>0.773663</td>\n      <td>0.324698</td>\n      <td>shelter</td>\n    </tr>\n    <tr>\n      <td>12</td>\n      <td>0.986630</td>\n      <td>0.268908</td>\n      <td>0.727273</td>\n      <td>0.164948</td>\n      <td>clothing</td>\n    </tr>\n    <tr>\n      <td>13</td>\n      <td>0.978638</td>\n      <td>0.054422</td>\n      <td>0.666667</td>\n      <td>0.028369</td>\n      <td>money</td>\n    </tr>\n    <tr>\n      <td>14</td>\n      <td>0.987398</td>\n      <td>0.023810</td>\n      <td>0.500000</td>\n      <td>0.012195</td>\n      <td>missing_people</td>\n    </tr>\n    <tr>\n      <td>15</td>\n      <td>0.962963</td>\n      <td>0.069498</td>\n      <td>0.500000</td>\n      <td>0.037344</td>\n      <td>refugees</td>\n    </tr>\n    <tr>\n      <td>16</td>\n      <td>0.961272</td>\n      <td>0.280000</td>\n      <td>0.859649</td>\n      <td>0.167235</td>\n      <td>death</td>\n    </tr>\n    <tr>\n      <td>17</td>\n      <td>0.867066</td>\n      <td>0.090431</td>\n      <td>0.500000</td>\n      <td>0.049711</td>\n      <td>other_aid</td>\n    </tr>\n    <tr>\n      <td>18</td>\n      <td>0.931919</td>\n      <td>0.013363</td>\n      <td>0.200000</td>\n      <td>0.006912</td>\n      <td>infrastructure_related</td>\n    </tr>\n    <tr>\n      <td>19</td>\n      <td>0.955586</td>\n      <td>0.116208</td>\n      <td>0.678571</td>\n      <td>0.063545</td>\n      <td>transport</td>\n    </tr>\n    <tr>\n      <td>20</td>\n      <td>0.951130</td>\n      <td>0.201005</td>\n      <td>0.666667</td>\n      <td>0.118343</td>\n      <td>buildings</td>\n    </tr>\n    <tr>\n      <td>21</td>\n      <td>0.980483</td>\n      <td>0.030534</td>\n      <td>0.666667</td>\n      <td>0.015625</td>\n      <td>electricity</td>\n    </tr>\n    <tr>\n      <td>22</td>\n      <td>0.994160</td>\n      <td>0.000000</td>\n      <td>0.000000</td>\n      <td>0.000000</td>\n      <td>tools</td>\n    </tr>\n    <tr>\n      <td>23</td>\n      <td>0.990472</td>\n      <td>0.000000</td>\n      <td>0.000000</td>\n      <td>0.000000</td>\n      <td>hospitals</td>\n    </tr>\n    <tr>\n      <td>24</td>\n      <td>0.994929</td>\n      <td>0.000000</td>\n      <td>0.000000</td>\n      <td>0.000000</td>\n      <td>shops</td>\n    </tr>\n    <tr>\n      <td>25</td>\n      <td>0.988320</td>\n      <td>0.000000</td>\n      <td>0.000000</td>\n      <td>0.000000</td>\n      <td>aid_centers</td>\n    </tr>\n    <tr>\n      <td>26</td>\n      <td>0.953588</td>\n      <td>0.013072</td>\n      <td>0.285714</td>\n      <td>0.006689</td>\n      <td>other_infrastructure</td>\n    </tr>\n    <tr>\n      <td>27</td>\n      <td>0.856616</td>\n      <td>0.708711</td>\n      <td>0.838877</td>\n      <td>0.613514</td>\n      <td>weather_related</td>\n    </tr>\n    <tr>\n      <td>28</td>\n      <td>0.940833</td>\n      <td>0.481830</td>\n      <td>0.848341</td>\n      <td>0.336466</td>\n      <td>floods</td>\n    </tr>\n    <tr>\n      <td>29</td>\n      <td>0.932073</td>\n      <td>0.538622</td>\n      <td>0.779456</td>\n      <td>0.411483</td>\n      <td>storm</td>\n    </tr>\n    <tr>\n      <td>30</td>\n      <td>0.991087</td>\n      <td>0.033333</td>\n      <td>1.000000</td>\n      <td>0.016949</td>\n      <td>fire</td>\n    </tr>\n    <tr>\n      <td>31</td>\n      <td>0.962502</td>\n      <td>0.790017</td>\n      <td>0.903543</td>\n      <td>0.701835</td>\n      <td>earthquake</td>\n    </tr>\n    <tr>\n      <td>32</td>\n      <td>0.979868</td>\n      <td>0.132450</td>\n      <td>0.769231</td>\n      <td>0.072464</td>\n      <td>cold</td>\n    </tr>\n    <tr>\n      <td>33</td>\n      <td>0.945136</td>\n      <td>0.062992</td>\n      <td>0.333333</td>\n      <td>0.034783</td>\n      <td>other_weather</td>\n    </tr>\n    <tr>\n      <td>34</td>\n      <td>0.839250</td>\n      <td>0.425275</td>\n      <td>0.731569</td>\n      <td>0.299768</td>\n      <td>direct_report</td>\n    </tr>\n  </tbody>\n</table>\n</div>",
      "text/plain": "    Accuracy  F1 Score  Precision    Recall                   index\n0   0.803750  0.876152   0.845247  0.909402                 related\n1   0.885969  0.573563   0.804839  0.445536                 request\n2   0.996465  0.000000   0.000000  0.000000                   offer\n3   0.746427  0.660773   0.735469  0.599851             aid_related\n4   0.923313  0.191248   0.602041  0.113680            medical_help\n5   0.953435  0.192000   0.666667  0.112150        medical_products\n6   0.977255  0.075000   0.857143  0.039216       search_and_rescue\n7   0.980790  0.015748   0.333333  0.008065                security\n8   0.967727  0.160000   0.740741  0.089686                military\n9   0.958506  0.551495   0.892473  0.399038                   water\n10  0.938681  0.677966   0.815534  0.580110                    food\n11  0.931458  0.457421   0.773663  0.324698                 shelter\n12  0.986630  0.268908   0.727273  0.164948                clothing\n13  0.978638  0.054422   0.666667  0.028369                   money\n14  0.987398  0.023810   0.500000  0.012195          missing_people\n15  0.962963  0.069498   0.500000  0.037344                refugees\n16  0.961272  0.280000   0.859649  0.167235                   death\n17  0.867066  0.090431   0.500000  0.049711               other_aid\n18  0.931919  0.013363   0.200000  0.006912  infrastructure_related\n19  0.955586  0.116208   0.678571  0.063545               transport\n20  0.951130  0.201005   0.666667  0.118343               buildings\n21  0.980483  0.030534   0.666667  0.015625             electricity\n22  0.994160  0.000000   0.000000  0.000000                   tools\n23  0.990472  0.000000   0.000000  0.000000               hospitals\n24  0.994929  0.000000   0.000000  0.000000                   shops\n25  0.988320  0.000000   0.000000  0.000000             aid_centers\n26  0.953588  0.013072   0.285714  0.006689    other_infrastructure\n27  0.856616  0.708711   0.838877  0.613514         weather_related\n28  0.940833  0.481830   0.848341  0.336466                  floods\n29  0.932073  0.538622   0.779456  0.411483                   storm\n30  0.991087  0.033333   1.000000  0.016949                    fire\n31  0.962502  0.790017   0.903543  0.701835              earthquake\n32  0.979868  0.132450   0.769231  0.072464                    cold\n33  0.945136  0.062992   0.333333  0.034783           other_weather\n34  0.839250  0.425275   0.731569  0.299768           direct_report"
     },
     "metadata": {},
     "output_type": "display_data"
    }
   ],
   "source": [
    "result_pred_df = get_score(y_true, y_pred, target_names)\n",
    "display(result_pred_df)"
   ]
  },
  {
   "cell_type": "markdown",
   "metadata": {},
   "source": [
    "### 6. Improve your model\n",
    "Use grid search to find better parameters. "
   ]
  },
  {
   "cell_type": "code",
   "execution_count": 19,
   "metadata": {},
   "outputs": [],
   "source": [
    "def mid_f1(y_true, y_pred):\n",
    "    f1_list = []\n",
    "    for i in range(np.shape(y_pred)[1]):\n",
    "        f1 = f1_score(np.array(y_true)[:, i], y_pred[:, i])\n",
    "        f1_list.append(f1)\n",
    "        \n",
    "    score = np.median(f1_list)\n",
    "    return score"
   ]
  },
  {
   "cell_type": "code",
   "execution_count": 20,
   "metadata": {},
   "outputs": [],
   "source": [
    "parameters = {'vect__min_df': [1, 5],\n",
    "              'tfidf__use_idf':[True, False],\n",
    "              'clf__estimator__n_estimators':[10, 25], \n",
    "              'clf__estimator__min_samples_split':[5, 10]}\n",
    "scorer = make_scorer(mid_f1)\n",
    "cv = GridSearchCV(pipeline, param_grid = parameters,scoring = scorer,verbose = 10, n_jobs=-1)"
   ]
  },
  {
   "cell_type": "code",
   "execution_count": 21,
   "metadata": {},
   "outputs": [
    {
     "name": "stdout",
     "output_type": "stream",
     "text": "Fitting 3 folds for each of 16 candidates, totalling 48 fits\n[Parallel(n_jobs=-1)]: Using backend LokyBackend with 4 concurrent workers.\n[Parallel(n_jobs=-1)]: Done   5 tasks      | elapsed: 16.7min\n[Parallel(n_jobs=-1)]: Done  10 tasks      | elapsed: 24.3min\n[Parallel(n_jobs=-1)]: Done  17 tasks      | elapsed: 41.0min\n[Parallel(n_jobs=-1)]: Done  24 tasks      | elapsed: 49.9min\n[Parallel(n_jobs=-1)]: Done  33 tasks      | elapsed: 75.3min\n[Parallel(n_jobs=-1)]: Done  46 out of  48 | elapsed: 100.3min remaining:  4.4min\n[Parallel(n_jobs=-1)]: Done  48 out of  48 | elapsed: 101.9min finished\n"
    }
   ],
   "source": [
    "np.random.seed(233)\n",
    "tuned_model = cv.fit(X_train, Y_train)"
   ]
  },
  {
   "cell_type": "code",
   "execution_count": 24,
   "metadata": {},
   "outputs": [
    {
     "name": "stdout",
     "output_type": "stream",
     "text": "{'clf__estimator__min_samples_split': 10, 'clf__estimator__n_estimators': 10, 'tfidf__use_idf': True, 'vect__min_df': 5}\n0.22485969644939335\n"
    }
   ],
   "source": [
    "print(tuned_model.best_params_)\n",
    "print(cv.best_score_)"
   ]
  },
  {
   "cell_type": "markdown",
   "metadata": {},
   "source": [
    "### 7. Test your model\n",
    "Show the accuracy, precision, and recall of the tuned model.  \n",
    "\n",
    "Since this project focuses on code quality, process, and  pipelines, there is no minimum performance metric needed to pass. However, make sure to fine tune your models for accuracy, precision and recall to make your project stand out - especially for your portfolio!"
   ]
  },
  {
   "cell_type": "code",
   "execution_count": 25,
   "metadata": {},
   "outputs": [
    {
     "data": {
      "text/html": "<div>\n<style scoped>\n    .dataframe tbody tr th:only-of-type {\n        vertical-align: middle;\n    }\n\n    .dataframe tbody tr th {\n        vertical-align: top;\n    }\n\n    .dataframe thead th {\n        text-align: right;\n    }\n</style>\n<table border=\"1\" class=\"dataframe\">\n  <thead>\n    <tr style=\"text-align: right;\">\n      <th></th>\n      <th>Accuracy</th>\n      <th>F1 Score</th>\n      <th>Precision</th>\n      <th>Recall</th>\n      <th>index</th>\n    </tr>\n  </thead>\n  <tbody>\n    <tr>\n      <td>0</td>\n      <td>0.812356</td>\n      <td>0.882945</td>\n      <td>0.842789</td>\n      <td>0.927119</td>\n      <td>related</td>\n    </tr>\n    <tr>\n      <td>1</td>\n      <td>0.893038</td>\n      <td>0.624595</td>\n      <td>0.788828</td>\n      <td>0.516964</td>\n      <td>request</td>\n    </tr>\n    <tr>\n      <td>2</td>\n      <td>0.996465</td>\n      <td>0.000000</td>\n      <td>0.000000</td>\n      <td>0.000000</td>\n      <td>offer</td>\n    </tr>\n    <tr>\n      <td>3</td>\n      <td>0.758875</td>\n      <td>0.705352</td>\n      <td>0.709751</td>\n      <td>0.701008</td>\n      <td>aid_related</td>\n    </tr>\n    <tr>\n      <td>4</td>\n      <td>0.921316</td>\n      <td>0.235821</td>\n      <td>0.523179</td>\n      <td>0.152216</td>\n      <td>medical_help</td>\n    </tr>\n    <tr>\n      <td>5</td>\n      <td>0.955433</td>\n      <td>0.275000</td>\n      <td>0.696203</td>\n      <td>0.171340</td>\n      <td>medical_products</td>\n    </tr>\n    <tr>\n      <td>6</td>\n      <td>0.976487</td>\n      <td>0.072727</td>\n      <td>0.500000</td>\n      <td>0.039216</td>\n      <td>search_and_rescue</td>\n    </tr>\n    <tr>\n      <td>7</td>\n      <td>0.980483</td>\n      <td>0.030534</td>\n      <td>0.285714</td>\n      <td>0.016129</td>\n      <td>security</td>\n    </tr>\n    <tr>\n      <td>8</td>\n      <td>0.967420</td>\n      <td>0.258741</td>\n      <td>0.587302</td>\n      <td>0.165919</td>\n      <td>military</td>\n    </tr>\n    <tr>\n      <td>9</td>\n      <td>0.960965</td>\n      <td>0.612805</td>\n      <td>0.837500</td>\n      <td>0.483173</td>\n      <td>water</td>\n    </tr>\n    <tr>\n      <td>10</td>\n      <td>0.938681</td>\n      <td>0.689977</td>\n      <td>0.788632</td>\n      <td>0.613260</td>\n      <td>food</td>\n    </tr>\n    <tr>\n      <td>11</td>\n      <td>0.939296</td>\n      <td>0.582011</td>\n      <td>0.751366</td>\n      <td>0.474957</td>\n      <td>shelter</td>\n    </tr>\n    <tr>\n      <td>12</td>\n      <td>0.987859</td>\n      <td>0.357724</td>\n      <td>0.846154</td>\n      <td>0.226804</td>\n      <td>clothing</td>\n    </tr>\n    <tr>\n      <td>13</td>\n      <td>0.980022</td>\n      <td>0.244186</td>\n      <td>0.677419</td>\n      <td>0.148936</td>\n      <td>money</td>\n    </tr>\n    <tr>\n      <td>14</td>\n      <td>0.987245</td>\n      <td>0.000000</td>\n      <td>0.000000</td>\n      <td>0.000000</td>\n      <td>missing_people</td>\n    </tr>\n    <tr>\n      <td>15</td>\n      <td>0.962963</td>\n      <td>0.076628</td>\n      <td>0.500000</td>\n      <td>0.041494</td>\n      <td>refugees</td>\n    </tr>\n    <tr>\n      <td>16</td>\n      <td>0.959736</td>\n      <td>0.291892</td>\n      <td>0.701299</td>\n      <td>0.184300</td>\n      <td>death</td>\n    </tr>\n    <tr>\n      <td>17</td>\n      <td>0.867374</td>\n      <td>0.125633</td>\n      <td>0.508197</td>\n      <td>0.071676</td>\n      <td>other_aid</td>\n    </tr>\n    <tr>\n      <td>18</td>\n      <td>0.931919</td>\n      <td>0.008949</td>\n      <td>0.153846</td>\n      <td>0.004608</td>\n      <td>infrastructure_related</td>\n    </tr>\n    <tr>\n      <td>19</td>\n      <td>0.955279</td>\n      <td>0.189415</td>\n      <td>0.566667</td>\n      <td>0.113712</td>\n      <td>transport</td>\n    </tr>\n    <tr>\n      <td>20</td>\n      <td>0.955740</td>\n      <td>0.339450</td>\n      <td>0.755102</td>\n      <td>0.218935</td>\n      <td>buildings</td>\n    </tr>\n    <tr>\n      <td>21</td>\n      <td>0.981405</td>\n      <td>0.176871</td>\n      <td>0.684211</td>\n      <td>0.101562</td>\n      <td>electricity</td>\n    </tr>\n    <tr>\n      <td>22</td>\n      <td>0.994160</td>\n      <td>0.000000</td>\n      <td>0.000000</td>\n      <td>0.000000</td>\n      <td>tools</td>\n    </tr>\n    <tr>\n      <td>23</td>\n      <td>0.990779</td>\n      <td>0.000000</td>\n      <td>0.000000</td>\n      <td>0.000000</td>\n      <td>hospitals</td>\n    </tr>\n    <tr>\n      <td>24</td>\n      <td>0.994929</td>\n      <td>0.000000</td>\n      <td>0.000000</td>\n      <td>0.000000</td>\n      <td>shops</td>\n    </tr>\n    <tr>\n      <td>25</td>\n      <td>0.988320</td>\n      <td>0.000000</td>\n      <td>0.000000</td>\n      <td>0.000000</td>\n      <td>aid_centers</td>\n    </tr>\n    <tr>\n      <td>26</td>\n      <td>0.953127</td>\n      <td>0.019293</td>\n      <td>0.250000</td>\n      <td>0.010033</td>\n      <td>other_infrastructure</td>\n    </tr>\n    <tr>\n      <td>27</td>\n      <td>0.874136</td>\n      <td>0.764588</td>\n      <td>0.816452</td>\n      <td>0.718919</td>\n      <td>weather_related</td>\n    </tr>\n    <tr>\n      <td>28</td>\n      <td>0.952359</td>\n      <td>0.631829</td>\n      <td>0.858065</td>\n      <td>0.500000</td>\n      <td>floods</td>\n    </tr>\n    <tr>\n      <td>29</td>\n      <td>0.940679</td>\n      <td>0.654122</td>\n      <td>0.746421</td>\n      <td>0.582137</td>\n      <td>storm</td>\n    </tr>\n    <tr>\n      <td>30</td>\n      <td>0.991087</td>\n      <td>0.033333</td>\n      <td>1.000000</td>\n      <td>0.016949</td>\n      <td>fire</td>\n    </tr>\n    <tr>\n      <td>31</td>\n      <td>0.968034</td>\n      <td>0.830894</td>\n      <td>0.887153</td>\n      <td>0.781346</td>\n      <td>earthquake</td>\n    </tr>\n    <tr>\n      <td>32</td>\n      <td>0.982173</td>\n      <td>0.317647</td>\n      <td>0.843750</td>\n      <td>0.195652</td>\n      <td>cold</td>\n    </tr>\n    <tr>\n      <td>33</td>\n      <td>0.944982</td>\n      <td>0.131068</td>\n      <td>0.402985</td>\n      <td>0.078261</td>\n      <td>other_weather</td>\n    </tr>\n    <tr>\n      <td>34</td>\n      <td>0.847241</td>\n      <td>0.503000</td>\n      <td>0.709450</td>\n      <td>0.389620</td>\n      <td>direct_report</td>\n    </tr>\n  </tbody>\n</table>\n</div>",
      "text/plain": "    Accuracy  F1 Score  Precision    Recall                   index\n0   0.812356  0.882945   0.842789  0.927119                 related\n1   0.893038  0.624595   0.788828  0.516964                 request\n2   0.996465  0.000000   0.000000  0.000000                   offer\n3   0.758875  0.705352   0.709751  0.701008             aid_related\n4   0.921316  0.235821   0.523179  0.152216            medical_help\n5   0.955433  0.275000   0.696203  0.171340        medical_products\n6   0.976487  0.072727   0.500000  0.039216       search_and_rescue\n7   0.980483  0.030534   0.285714  0.016129                security\n8   0.967420  0.258741   0.587302  0.165919                military\n9   0.960965  0.612805   0.837500  0.483173                   water\n10  0.938681  0.689977   0.788632  0.613260                    food\n11  0.939296  0.582011   0.751366  0.474957                 shelter\n12  0.987859  0.357724   0.846154  0.226804                clothing\n13  0.980022  0.244186   0.677419  0.148936                   money\n14  0.987245  0.000000   0.000000  0.000000          missing_people\n15  0.962963  0.076628   0.500000  0.041494                refugees\n16  0.959736  0.291892   0.701299  0.184300                   death\n17  0.867374  0.125633   0.508197  0.071676               other_aid\n18  0.931919  0.008949   0.153846  0.004608  infrastructure_related\n19  0.955279  0.189415   0.566667  0.113712               transport\n20  0.955740  0.339450   0.755102  0.218935               buildings\n21  0.981405  0.176871   0.684211  0.101562             electricity\n22  0.994160  0.000000   0.000000  0.000000                   tools\n23  0.990779  0.000000   0.000000  0.000000               hospitals\n24  0.994929  0.000000   0.000000  0.000000                   shops\n25  0.988320  0.000000   0.000000  0.000000             aid_centers\n26  0.953127  0.019293   0.250000  0.010033    other_infrastructure\n27  0.874136  0.764588   0.816452  0.718919         weather_related\n28  0.952359  0.631829   0.858065  0.500000                  floods\n29  0.940679  0.654122   0.746421  0.582137                   storm\n30  0.991087  0.033333   1.000000  0.016949                    fire\n31  0.968034  0.830894   0.887153  0.781346              earthquake\n32  0.982173  0.317647   0.843750  0.195652                    cold\n33  0.944982  0.131068   0.402985  0.078261           other_weather\n34  0.847241  0.503000   0.709450  0.389620           direct_report"
     },
     "metadata": {},
     "output_type": "display_data"
    }
   ],
   "source": [
    "y_true = np.array(Y_test)\n",
    "y_tuned_pred = tuned_model.predict(X_test)\n",
    "result_tuned_df = get_score(y_true, y_tuned_pred, target_names)\n",
    "display(result_tuned_df)"
   ]
  },
  {
   "cell_type": "code",
   "execution_count": 26,
   "metadata": {},
   "outputs": [
    {
     "data": {
      "text/html": "<div>\n<style scoped>\n    .dataframe tbody tr th:only-of-type {\n        vertical-align: middle;\n    }\n\n    .dataframe tbody tr th {\n        vertical-align: top;\n    }\n\n    .dataframe thead th {\n        text-align: right;\n    }\n</style>\n<table border=\"1\" class=\"dataframe\">\n  <thead>\n    <tr style=\"text-align: right;\">\n      <th></th>\n      <th>Accuracy</th>\n      <th>F1 Score</th>\n      <th>Precision</th>\n      <th>Recall</th>\n    </tr>\n  </thead>\n  <tbody>\n    <tr>\n      <td>count</td>\n      <td>35.000000</td>\n      <td>35.000000</td>\n      <td>35.000000</td>\n      <td>35.000000</td>\n    </tr>\n    <tr>\n      <td>mean</td>\n      <td>0.942734</td>\n      <td>0.250453</td>\n      <td>0.586363</td>\n      <td>0.193703</td>\n    </tr>\n    <tr>\n      <td>std</td>\n      <td>0.057848</td>\n      <td>0.270638</td>\n      <td>0.304362</td>\n      <td>0.244644</td>\n    </tr>\n    <tr>\n      <td>min</td>\n      <td>0.746427</td>\n      <td>0.000000</td>\n      <td>0.000000</td>\n      <td>0.000000</td>\n    </tr>\n    <tr>\n      <td>25%</td>\n      <td>0.931996</td>\n      <td>0.027172</td>\n      <td>0.416667</td>\n      <td>0.013910</td>\n    </tr>\n    <tr>\n      <td>50%</td>\n      <td>0.958506</td>\n      <td>0.132450</td>\n      <td>0.678571</td>\n      <td>0.072464</td>\n    </tr>\n    <tr>\n      <td>75%</td>\n      <td>0.980636</td>\n      <td>0.469626</td>\n      <td>0.810186</td>\n      <td>0.330582</td>\n    </tr>\n    <tr>\n      <td>max</td>\n      <td>0.996465</td>\n      <td>0.876152</td>\n      <td>1.000000</td>\n      <td>0.909402</td>\n    </tr>\n  </tbody>\n</table>\n</div>",
      "text/plain": "        Accuracy   F1 Score  Precision     Recall\ncount  35.000000  35.000000  35.000000  35.000000\nmean    0.942734   0.250453   0.586363   0.193703\nstd     0.057848   0.270638   0.304362   0.244644\nmin     0.746427   0.000000   0.000000   0.000000\n25%     0.931996   0.027172   0.416667   0.013910\n50%     0.958506   0.132450   0.678571   0.072464\n75%     0.980636   0.469626   0.810186   0.330582\nmax     0.996465   0.876152   1.000000   0.909402"
     },
     "metadata": {},
     "output_type": "display_data"
    },
    {
     "data": {
      "text/html": "<div>\n<style scoped>\n    .dataframe tbody tr th:only-of-type {\n        vertical-align: middle;\n    }\n\n    .dataframe tbody tr th {\n        vertical-align: top;\n    }\n\n    .dataframe thead th {\n        text-align: right;\n    }\n</style>\n<table border=\"1\" class=\"dataframe\">\n  <thead>\n    <tr style=\"text-align: right;\">\n      <th></th>\n      <th>Accuracy</th>\n      <th>F1 Score</th>\n      <th>Precision</th>\n      <th>Recall</th>\n    </tr>\n  </thead>\n  <tbody>\n    <tr>\n      <td>count</td>\n      <td>35.000000</td>\n      <td>35.000000</td>\n      <td>35.000000</td>\n      <td>35.000000</td>\n    </tr>\n    <tr>\n      <td>mean</td>\n      <td>0.945496</td>\n      <td>0.304772</td>\n      <td>0.549098</td>\n      <td>0.247036</td>\n    </tr>\n    <tr>\n      <td>std</td>\n      <td>0.054798</td>\n      <td>0.285044</td>\n      <td>0.313969</td>\n      <td>0.271040</td>\n    </tr>\n    <tr>\n      <td>min</td>\n      <td>0.758875</td>\n      <td>0.000000</td>\n      <td>0.000000</td>\n      <td>0.000000</td>\n    </tr>\n    <tr>\n      <td>25%</td>\n      <td>0.938989</td>\n      <td>0.031934</td>\n      <td>0.344350</td>\n      <td>0.016539</td>\n    </tr>\n    <tr>\n      <td>50%</td>\n      <td>0.959736</td>\n      <td>0.244186</td>\n      <td>0.684211</td>\n      <td>0.152216</td>\n    </tr>\n    <tr>\n      <td>75%</td>\n      <td>0.981789</td>\n      <td>0.597408</td>\n      <td>0.788730</td>\n      <td>0.479065</td>\n    </tr>\n    <tr>\n      <td>max</td>\n      <td>0.996465</td>\n      <td>0.882945</td>\n      <td>1.000000</td>\n      <td>0.927119</td>\n    </tr>\n  </tbody>\n</table>\n</div>",
      "text/plain": "        Accuracy   F1 Score  Precision     Recall\ncount  35.000000  35.000000  35.000000  35.000000\nmean    0.945496   0.304772   0.549098   0.247036\nstd     0.054798   0.285044   0.313969   0.271040\nmin     0.758875   0.000000   0.000000   0.000000\n25%     0.938989   0.031934   0.344350   0.016539\n50%     0.959736   0.244186   0.684211   0.152216\n75%     0.981789   0.597408   0.788730   0.479065\nmax     0.996465   0.882945   1.000000   0.927119"
     },
     "metadata": {},
     "output_type": "display_data"
    }
   ],
   "source": [
    "display(result_pred_df.describe())\n",
    "display(result_tuned_df.describe())"
   ]
  },
  {
   "cell_type": "markdown",
   "metadata": {},
   "source": [
    "### 8. Try improving your model further. Here are a few ideas:\n",
    "* try other machine learning algorithms\n",
    "* add other features besides the TF-IDF"
   ]
  },
  {
   "cell_type": "code",
   "execution_count": 27,
   "metadata": {},
   "outputs": [
    {
     "name": "stdout",
     "output_type": "stream",
     "text": "Fitting 3 folds for each of 8 candidates, totalling 24 fits\n[Parallel(n_jobs=-1)]: Using backend LokyBackend with 4 concurrent workers.\n[Parallel(n_jobs=-1)]: Done   5 tasks      | elapsed: 19.6min\n[Parallel(n_jobs=-1)]: Done  10 tasks      | elapsed: 29.2min\n[Parallel(n_jobs=-1)]: Done  17 tasks      | elapsed: 48.3min\n[Parallel(n_jobs=-1)]: Done  20 out of  24 | elapsed: 48.5min remaining:  9.7min\n[Parallel(n_jobs=-1)]: Done  24 out of  24 | elapsed: 59.1min finished\n"
    }
   ],
   "source": [
    "pipeline = Pipeline([\n",
    "    ('vect', CountVectorizer(tokenizer = tokenize)),\n",
    "    ('tfidf', TfidfTransformer()),\n",
    "    ('clf', MultiOutputClassifier(KNeighborsClassifier()))\n",
    "])\n",
    "\n",
    "parameters_kn = {'tfidf__use_idf':[True, False],\n",
    "                 'clf__estimator__weights':['uniform','distance'],\n",
    "                 'clf__estimator__leaf_size':[25,35]\n",
    "                }\n",
    "cv = GridSearchCV(pipeline, param_grid = parameters_kn,scoring = scorer,verbose = 10, n_jobs=-1)\n",
    "\n",
    "np.random.seed(233)\n",
    "kn_model = cv.fit(X_train, Y_train)"
   ]
  },
  {
   "cell_type": "code",
   "execution_count": 28,
   "metadata": {},
   "outputs": [
    {
     "name": "stdout",
     "output_type": "stream",
     "text": "{'clf__estimator__leaf_size': 25, 'clf__estimator__weights': 'distance', 'tfidf__use_idf': True}\n0.16819123270736175\n"
    }
   ],
   "source": [
    "print(kn_model.best_params_)\n",
    "print(cv.best_score_)"
   ]
  },
  {
   "cell_type": "code",
   "execution_count": 29,
   "metadata": {},
   "outputs": [
    {
     "data": {
      "text/html": "<div>\n<style scoped>\n    .dataframe tbody tr th:only-of-type {\n        vertical-align: middle;\n    }\n\n    .dataframe tbody tr th {\n        vertical-align: top;\n    }\n\n    .dataframe thead th {\n        text-align: right;\n    }\n</style>\n<table border=\"1\" class=\"dataframe\">\n  <thead>\n    <tr style=\"text-align: right;\">\n      <th></th>\n      <th>Accuracy</th>\n      <th>F1 Score</th>\n      <th>Precision</th>\n      <th>Recall</th>\n      <th>index</th>\n    </tr>\n  </thead>\n  <tbody>\n    <tr>\n      <td>0</td>\n      <td>0.788996</td>\n      <td>0.870018</td>\n      <td>0.821122</td>\n      <td>0.925106</td>\n      <td>related</td>\n    </tr>\n    <tr>\n      <td>1</td>\n      <td>0.868910</td>\n      <td>0.536161</td>\n      <td>0.685675</td>\n      <td>0.440179</td>\n      <td>request</td>\n    </tr>\n    <tr>\n      <td>2</td>\n      <td>0.996312</td>\n      <td>0.000000</td>\n      <td>0.000000</td>\n      <td>0.000000</td>\n      <td>offer</td>\n    </tr>\n    <tr>\n      <td>3</td>\n      <td>0.693714</td>\n      <td>0.544040</td>\n      <td>0.702719</td>\n      <td>0.443822</td>\n      <td>aid_related</td>\n    </tr>\n    <tr>\n      <td>4</td>\n      <td>0.921162</td>\n      <td>0.131980</td>\n      <td>0.541667</td>\n      <td>0.075145</td>\n      <td>medical_help</td>\n    </tr>\n    <tr>\n      <td>5</td>\n      <td>0.953896</td>\n      <td>0.193548</td>\n      <td>0.705882</td>\n      <td>0.112150</td>\n      <td>medical_products</td>\n    </tr>\n    <tr>\n      <td>6</td>\n      <td>0.976641</td>\n      <td>0.061728</td>\n      <td>0.555556</td>\n      <td>0.032680</td>\n      <td>search_and_rescue</td>\n    </tr>\n    <tr>\n      <td>7</td>\n      <td>0.980944</td>\n      <td>0.015873</td>\n      <td>0.500000</td>\n      <td>0.008065</td>\n      <td>security</td>\n    </tr>\n    <tr>\n      <td>8</td>\n      <td>0.965883</td>\n      <td>0.112000</td>\n      <td>0.518519</td>\n      <td>0.062780</td>\n      <td>military</td>\n    </tr>\n    <tr>\n      <td>9</td>\n      <td>0.946365</td>\n      <td>0.364299</td>\n      <td>0.751880</td>\n      <td>0.240385</td>\n      <td>water</td>\n    </tr>\n    <tr>\n      <td>10</td>\n      <td>0.910865</td>\n      <td>0.441233</td>\n      <td>0.729299</td>\n      <td>0.316298</td>\n      <td>food</td>\n    </tr>\n    <tr>\n      <td>11</td>\n      <td>0.918088</td>\n      <td>0.290280</td>\n      <td>0.633721</td>\n      <td>0.188256</td>\n      <td>shelter</td>\n    </tr>\n    <tr>\n      <td>12</td>\n      <td>0.986169</td>\n      <td>0.262295</td>\n      <td>0.640000</td>\n      <td>0.164948</td>\n      <td>clothing</td>\n    </tr>\n    <tr>\n      <td>13</td>\n      <td>0.978331</td>\n      <td>0.155689</td>\n      <td>0.500000</td>\n      <td>0.092199</td>\n      <td>money</td>\n    </tr>\n    <tr>\n      <td>14</td>\n      <td>0.987398</td>\n      <td>0.023810</td>\n      <td>0.500000</td>\n      <td>0.012195</td>\n      <td>missing_people</td>\n    </tr>\n    <tr>\n      <td>15</td>\n      <td>0.962041</td>\n      <td>0.038911</td>\n      <td>0.312500</td>\n      <td>0.020747</td>\n      <td>refugees</td>\n    </tr>\n    <tr>\n      <td>16</td>\n      <td>0.959736</td>\n      <td>0.264045</td>\n      <td>0.746032</td>\n      <td>0.160410</td>\n      <td>death</td>\n    </tr>\n    <tr>\n      <td>17</td>\n      <td>0.862302</td>\n      <td>0.091278</td>\n      <td>0.371901</td>\n      <td>0.052023</td>\n      <td>other_aid</td>\n    </tr>\n    <tr>\n      <td>18</td>\n      <td>0.932381</td>\n      <td>0.051724</td>\n      <td>0.400000</td>\n      <td>0.027650</td>\n      <td>infrastructure_related</td>\n    </tr>\n    <tr>\n      <td>19</td>\n      <td>0.955279</td>\n      <td>0.120846</td>\n      <td>0.625000</td>\n      <td>0.066890</td>\n      <td>transport</td>\n    </tr>\n    <tr>\n      <td>20</td>\n      <td>0.950207</td>\n      <td>0.169231</td>\n      <td>0.634615</td>\n      <td>0.097633</td>\n      <td>buildings</td>\n    </tr>\n    <tr>\n      <td>21</td>\n      <td>0.981097</td>\n      <td>0.151724</td>\n      <td>0.647059</td>\n      <td>0.085938</td>\n      <td>electricity</td>\n    </tr>\n    <tr>\n      <td>22</td>\n      <td>0.994314</td>\n      <td>0.000000</td>\n      <td>0.000000</td>\n      <td>0.000000</td>\n      <td>tools</td>\n    </tr>\n    <tr>\n      <td>23</td>\n      <td>0.990779</td>\n      <td>0.000000</td>\n      <td>0.000000</td>\n      <td>0.000000</td>\n      <td>hospitals</td>\n    </tr>\n    <tr>\n      <td>24</td>\n      <td>0.994929</td>\n      <td>0.000000</td>\n      <td>0.000000</td>\n      <td>0.000000</td>\n      <td>shops</td>\n    </tr>\n    <tr>\n      <td>25</td>\n      <td>0.988167</td>\n      <td>0.000000</td>\n      <td>0.000000</td>\n      <td>0.000000</td>\n      <td>aid_centers</td>\n    </tr>\n    <tr>\n      <td>26</td>\n      <td>0.953588</td>\n      <td>0.044304</td>\n      <td>0.411765</td>\n      <td>0.023411</td>\n      <td>other_infrastructure</td>\n    </tr>\n    <tr>\n      <td>27</td>\n      <td>0.794990</td>\n      <td>0.523571</td>\n      <td>0.771579</td>\n      <td>0.396216</td>\n      <td>weather_related</td>\n    </tr>\n    <tr>\n      <td>28</td>\n      <td>0.927155</td>\n      <td>0.281818</td>\n      <td>0.726562</td>\n      <td>0.174812</td>\n      <td>floods</td>\n    </tr>\n    <tr>\n      <td>29</td>\n      <td>0.915322</td>\n      <td>0.346382</td>\n      <td>0.675926</td>\n      <td>0.232855</td>\n      <td>storm</td>\n    </tr>\n    <tr>\n      <td>30</td>\n      <td>0.991701</td>\n      <td>0.181818</td>\n      <td>0.857143</td>\n      <td>0.101695</td>\n      <td>fire</td>\n    </tr>\n    <tr>\n      <td>31</td>\n      <td>0.930536</td>\n      <td>0.536885</td>\n      <td>0.813665</td>\n      <td>0.400612</td>\n      <td>earthquake</td>\n    </tr>\n    <tr>\n      <td>32</td>\n      <td>0.980022</td>\n      <td>0.166667</td>\n      <td>0.722222</td>\n      <td>0.094203</td>\n      <td>cold</td>\n    </tr>\n    <tr>\n      <td>33</td>\n      <td>0.946673</td>\n      <td>0.074667</td>\n      <td>0.466667</td>\n      <td>0.040580</td>\n      <td>other_weather</td>\n    </tr>\n    <tr>\n      <td>34</td>\n      <td>0.826034</td>\n      <td>0.415289</td>\n      <td>0.623256</td>\n      <td>0.311387</td>\n      <td>direct_report</td>\n    </tr>\n  </tbody>\n</table>\n</div>",
      "text/plain": "    Accuracy  F1 Score  Precision    Recall                   index\n0   0.788996  0.870018   0.821122  0.925106                 related\n1   0.868910  0.536161   0.685675  0.440179                 request\n2   0.996312  0.000000   0.000000  0.000000                   offer\n3   0.693714  0.544040   0.702719  0.443822             aid_related\n4   0.921162  0.131980   0.541667  0.075145            medical_help\n5   0.953896  0.193548   0.705882  0.112150        medical_products\n6   0.976641  0.061728   0.555556  0.032680       search_and_rescue\n7   0.980944  0.015873   0.500000  0.008065                security\n8   0.965883  0.112000   0.518519  0.062780                military\n9   0.946365  0.364299   0.751880  0.240385                   water\n10  0.910865  0.441233   0.729299  0.316298                    food\n11  0.918088  0.290280   0.633721  0.188256                 shelter\n12  0.986169  0.262295   0.640000  0.164948                clothing\n13  0.978331  0.155689   0.500000  0.092199                   money\n14  0.987398  0.023810   0.500000  0.012195          missing_people\n15  0.962041  0.038911   0.312500  0.020747                refugees\n16  0.959736  0.264045   0.746032  0.160410                   death\n17  0.862302  0.091278   0.371901  0.052023               other_aid\n18  0.932381  0.051724   0.400000  0.027650  infrastructure_related\n19  0.955279  0.120846   0.625000  0.066890               transport\n20  0.950207  0.169231   0.634615  0.097633               buildings\n21  0.981097  0.151724   0.647059  0.085938             electricity\n22  0.994314  0.000000   0.000000  0.000000                   tools\n23  0.990779  0.000000   0.000000  0.000000               hospitals\n24  0.994929  0.000000   0.000000  0.000000                   shops\n25  0.988167  0.000000   0.000000  0.000000             aid_centers\n26  0.953588  0.044304   0.411765  0.023411    other_infrastructure\n27  0.794990  0.523571   0.771579  0.396216         weather_related\n28  0.927155  0.281818   0.726562  0.174812                  floods\n29  0.915322  0.346382   0.675926  0.232855                   storm\n30  0.991701  0.181818   0.857143  0.101695                    fire\n31  0.930536  0.536885   0.813665  0.400612              earthquake\n32  0.980022  0.166667   0.722222  0.094203                    cold\n33  0.946673  0.074667   0.466667  0.040580           other_weather\n34  0.826034  0.415289   0.623256  0.311387           direct_report"
     },
     "metadata": {},
     "output_type": "display_data"
    },
    {
     "data": {
      "text/html": "<div>\n<style scoped>\n    .dataframe tbody tr th:only-of-type {\n        vertical-align: middle;\n    }\n\n    .dataframe tbody tr th {\n        vertical-align: top;\n    }\n\n    .dataframe thead th {\n        text-align: right;\n    }\n</style>\n<table border=\"1\" class=\"dataframe\">\n  <thead>\n    <tr style=\"text-align: right;\">\n      <th></th>\n      <th>Accuracy</th>\n      <th>F1 Score</th>\n      <th>Precision</th>\n      <th>Recall</th>\n    </tr>\n  </thead>\n  <tbody>\n    <tr>\n      <td>count</td>\n      <td>35.000000</td>\n      <td>35.000000</td>\n      <td>35.000000</td>\n      <td>35.000000</td>\n    </tr>\n    <tr>\n      <td>mean</td>\n      <td>0.934598</td>\n      <td>0.213203</td>\n      <td>0.531198</td>\n      <td>0.154322</td>\n    </tr>\n    <tr>\n      <td>std</td>\n      <td>0.068891</td>\n      <td>0.208447</td>\n      <td>0.256021</td>\n      <td>0.190749</td>\n    </tr>\n    <tr>\n      <td>min</td>\n      <td>0.693714</td>\n      <td>0.000000</td>\n      <td>0.000000</td>\n      <td>0.000000</td>\n    </tr>\n    <tr>\n      <td>25%</td>\n      <td>0.919625</td>\n      <td>0.048014</td>\n      <td>0.439216</td>\n      <td>0.025531</td>\n    </tr>\n    <tr>\n      <td>50%</td>\n      <td>0.953896</td>\n      <td>0.155689</td>\n      <td>0.625000</td>\n      <td>0.092199</td>\n    </tr>\n    <tr>\n      <td>75%</td>\n      <td>0.981020</td>\n      <td>0.318331</td>\n      <td>0.714052</td>\n      <td>0.210555</td>\n    </tr>\n    <tr>\n      <td>max</td>\n      <td>0.996312</td>\n      <td>0.870018</td>\n      <td>0.857143</td>\n      <td>0.925106</td>\n    </tr>\n  </tbody>\n</table>\n</div>",
      "text/plain": "        Accuracy   F1 Score  Precision     Recall\ncount  35.000000  35.000000  35.000000  35.000000\nmean    0.934598   0.213203   0.531198   0.154322\nstd     0.068891   0.208447   0.256021   0.190749\nmin     0.693714   0.000000   0.000000   0.000000\n25%     0.919625   0.048014   0.439216   0.025531\n50%     0.953896   0.155689   0.625000   0.092199\n75%     0.981020   0.318331   0.714052   0.210555\nmax     0.996312   0.870018   0.857143   0.925106"
     },
     "metadata": {},
     "output_type": "display_data"
    }
   ],
   "source": [
    "y_true = np.array(Y_test)\n",
    "y_kn_pred = kn_model.predict(X_test)\n",
    "result_kn_df = get_score(y_true, y_kn_pred, target_names)\n",
    "display(result_kn_df)\n",
    "display(result_kn_df.describe())"
   ]
  },
  {
   "cell_type": "markdown",
   "metadata": {},
   "source": [
    "### 9. Export your model as a pickle file"
   ]
  },
  {
   "cell_type": "code",
   "execution_count": 30,
   "metadata": {},
   "outputs": [],
   "source": [
    "pickle.dump(tuned_model, open('disaster_model.pkl', 'wb'))"
   ]
  },
  {
   "cell_type": "markdown",
   "metadata": {},
   "source": [
    "### 10. Use this notebook to complete `train.py`\n",
    "Use the template file attached in the Resources folder to write a script that runs the steps above to create a database and export a model based on a new dataset specified by the user."
   ]
  },
  {
   "cell_type": "code",
   "execution_count": null,
   "metadata": {},
   "outputs": [],
   "source": []
  }
 ],
 "metadata": {
  "kernelspec": {
   "display_name": "Python 3",
   "language": "python",
   "name": "python3"
  },
  "language_info": {
   "codemirror_mode": {
    "name": "ipython",
    "version": 3
   },
   "file_extension": ".py",
   "mimetype": "text/x-python",
   "name": "python",
   "nbconvert_exporter": "python",
   "pygments_lexer": "ipython3",
   "version": "3.7.4"
  }
 },
 "nbformat": 4,
 "nbformat_minor": 2
}